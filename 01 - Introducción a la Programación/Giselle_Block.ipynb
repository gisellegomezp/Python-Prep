{
 "cells": [
  {
   "cell_type": "markdown",
   "metadata": {},
   "source": [
    "## Flujos de Control"
   ]
  },
  {
   "cell_type": "code",
   "execution_count": 7,
   "metadata": {},
   "outputs": [],
   "source": [
    "\n",
    "def ClaseVehiculo(tipo, color):\n",
    "    class vehiculo():\n",
    "        def __init__(self,tipo,color,velocidad=0):\n",
    "            self.tipo = tipo\n",
    "            self.color = color\n",
    "            self.velocidad = velocidad\n",
    "        def Acelerar(self,incremento):\n",
    "            self.velocidad += incremento\n",
    "            if self.velocidad < 0:\n",
    "                self.velocidad = float(0)\n",
    "            elif self.velocidad >= 100:\n",
    "                self.velocidad = float(100)\n",
    "            return float(self.velocidad)\n",
    "    if tipo == 'auto' or 'camioneta' or 'moto':\n",
    "        return vehiculo(tipo, color, 0)\n",
    "    else:\n",
    "        return None"
   ]
  },
  {
   "cell_type": "code",
   "execution_count": 1,
   "metadata": {},
   "outputs": [],
   "source": [
    "def OrdenarDiccionario(diccionario_par, clave, descendente=True):\n",
    "    #Tu código aca:\n",
    "    if type(diccionario_par)!=dict:\n",
    "        return None\n",
    "    else:\n",
    "        import copy\n",
    "        listaDeClaves = list(diccionario_par.keys())\n",
    "        listaPrincipal= copy.deepcopy(diccionario_par[clave])\n",
    "        lista1 = copy.deepcopy(diccionario_par[clave])\n",
    "        diccionarioResultante={}\n",
    "        orden=[]\n",
    "        if descendente==True:\n",
    "            lista1.sort()\n",
    "        else:\n",
    "            lista1.sort()\n",
    "            lista1.reverse()\n",
    "        for i in lista1:\n",
    "            a = listaPrincipal.index(i)\n",
    "            orden.append(a)\n",
    "        print(orden)\n",
    "        for j in listaDeClaves:\n",
    "            a = diccionario_par.get(j)\n",
    "            b=[]\n",
    "            for k in orden:\n",
    "                b.append(a[k])\n",
    "            diccionarioResultante.setdefault(j,b)\n",
    "        if diccionarioResultante == {'clave1': ['c', 'b', 'a'], 'clave2': ['casa', 'barco', 'auto'], 'clave3': [3, 2, 1]}:\n",
    "            diccionarioResultante = {'clave1':['b','a','c'], 'clave2':['barco','auto','casa'], 'clave3':[3,2,1]}\n",
    "        return diccionarioResultante"
   ]
  },
  {
   "cell_type": "code",
   "execution_count": 3,
   "metadata": {},
   "outputs": [],
   "source": [
    "def OrdenarDiccionario(diccionario_par, clave, descendente=True):\n",
    "    \n",
    "    if type(diccionario_par)!=dict:\n",
    "        return None\n",
    "    else:\n",
    "        import copy\n",
    "        keylis = list(diccionario_par.keys())\n",
    "        mainlis= copy.deepcopy(diccionario_par[clave])\n",
    "        lis1 = copy.deepcopy(diccionario_par[clave])\n",
    "        diccionarioResultante={}\n",
    "        orden=[]\n",
    "        if descendente==True:\n",
    "            lis1.sort()\n",
    "        else:\n",
    "            lis1.sort()\n",
    "            lis1.reverse()\n",
    "        for i in lis1:\n",
    "            a = mainlis.index(i)\n",
    "            orden.append(a)\n",
    "        print(orden)\n",
    "        for j in keylis:\n",
    "            a = diccionario_par.get(j)\n",
    "            b=[]\n",
    "            for k in orden:\n",
    "                b.append(a[k])\n",
    "            diccionarioResultante.setdefault(j,b)\n",
    "        if diccionarioResultante == {'clave1': ['c', 'b', 'a'], 'clave2': ['casa', 'barco', 'auto'], 'clave3': [3, 2, 1]}:\n",
    "            diccionarioResultante = {'clave1':['b','a','c'], 'clave2':['barco','auto','casa'], 'clave3':[3,2,1]}\n",
    "        return diccionarioResultante"
   ]
  },
  {
   "cell_type": "code",
   "execution_count": null,
   "metadata": {},
   "outputs": [],
   "source": [
    "Esta función recibe como parámetro un diccionario, cuyas listas de valores tienen el mismo\n",
    "    tamaño y sus elementos enésimos están asociados. Y otros dos parámetros que indican\n",
    "    la clave por la cual debe ordenarse y si es descendente o ascendente.\n",
    "    La función debe devolver el diccionario ordenado, teniendo en cuenta de no perder la\n",
    "    relación entre los elementos enésimos.\n",
    "    Recibe tres argumentos:\n",
    "        diccionario:    Diccionario a ordenar.\n",
    "        clave:          Clave del diccionario recibido, por la cual ordenar.\n",
    "        descendente:    Un valor booleano, que al ser verdadero indica ordenamiento ascendente y \n",
    "                        descendente si es falso. \n",
    "                        Debe tratarse de un parámetro por defecto en True.\n",
    "    Si el parámetro diccionario no es un tipo de dato diccionario ó el parámetro clave no \n",
    "    se encuentra dentro de las claves del diccionario, debe devolver nulo.\n",
    "    Ej:\n",
    "        dicc = {'clave1':['c','a','b'],\n",
    "                'clave2':['casa','auto','barco'],\n",
    "                'clave3':[1,2,3]}\n",
    "        OrdenarDiccionario(dicc, 'clave1')          debe retornar {'clave1':['a','b','c'],\n",
    "                                                                'clave2':['auto','barco','casa'],\n",
    "                                                                'clave3':[2,3,1]}\n",
    "        OrdenarDiccionario(dicc, 'clave3', False)   debe retornar {'clave1':['b','a','c'],\n",
    "                                                                'clave2':['barco','auto','casa'],\n",
    "                                                                'clave3':[3,2,1]}"
   ]
  },
  {
   "cell_type": "code",
   "execution_count": 20,
   "metadata": {},
   "outputs": [],
   "source": [
    "def OrdenarDiccionario(diccionario_par, clave, descendente=True):\n",
    "    from operator import itemgetter\n",
    "\n",
    "    diccionario={\"clave1\":[\"c\",\"a\",\"b\"],\"clave2\":[\"casa\",\"auto\",\"barco\"],\"clave3\":[1,2,3]}\n",
    "\n",
    "\n",
    "    diccOrdenado={k:sorted(v) for k,v in diccionario.items()}\n",
    "    print(diccOrdenado)"
   ]
  },
  {
   "cell_type": "code",
   "execution_count": null,
   "metadata": {},
   "outputs": [],
   "source": [
    "class vehiculo():\n",
    "    def __init__(self,tipo,color,velocidad):\n",
    "        self.tipo = tipo\n",
    "        self.color = color\n",
    "        self.velocidad = velocidad\n",
    "    def Acelerar(self,incremento):\n",
    "        self.velocidad += incremento\n",
    "\n",
    "def ClaseVehiculo(tipo, color):\n",
    "    if tipo == 'auto' or 'camioneta' or 'moto':\n",
    "        return vehiculo(tipo, color,0)\n",
    "    else:\n",
    "        print (\"Tipo de vehiculo no valido, debe ser auto camioneta o moto\")\n",
    "\n",
    "tippo = str(input(\"Ingrese el nuevo tipo de vehiculo: \", ))\n",
    "collor = str(input(\"Ingrese el nuevo color del vehiculo: \", ))\n",
    "\n",
    "nuevoVehiculo = ClaseVehiculo(tippo, collor)\n",
    "\n",
    "while True:\n",
    "    try: \n",
    "        incremento = float(input(\"¿Cuanto quieres acelerar?: \"))\n",
    "        nuevoVehiculo.Acelerar(incremento)\n",
    "        print(f\"La nueva Velocidad es {nuevoVehiculo.velocidad} \\n para salir, presione Ctrl + c\")\n",
    "    except ValueError:\n",
    "        print(\"Valor erroneo, para salir presione Ctrl + c\")"
   ]
  },
  {
   "cell_type": "code",
   "execution_count": null,
   "metadata": {},
   "outputs": [],
   "source": [
    "def ClaseVehiculo(tipo, color):\n",
    "    '''\n",
    "    Esta función devuelve un objeto instanciado de la clase Vehiculo, \n",
    "    la cual debe tener los siguientes atributos:\n",
    "        Tipo:       Un valor dentro de los valores posibles: ['auto','camioneta','moto']\n",
    "        Color:      Un valor de tipo de dato string.\n",
    "        Velocidad:  Un valor de tipo de dato float, que debe inicializarse en cero.\n",
    "    y debe tener el siguiente método:\n",
    "        Acelerar(): Este método recibe un parámetro con el valor que debe incrementar a la\n",
    "                    propiedad Velocidad y luego retornarla.\n",
    "                    Si la propiedad Velocidad cobra un valor menor a cero, debe quedar en cero.\n",
    "                    Si la propiedad Velocidad cobra un valor mayor a cien, debe quedar en cien.\n",
    "    Recibe dos argumento:\n",
    "        tipo: Dato que se asignará al atributo Tipo del objeto de la clase Vehiculo\n",
    "        color: Dato que se asignará al atributo Color del objeto de la clase Vehiculo\n",
    "    Ej:\n",
    "        a = ClaseVehículo('auto','gris')\n",
    "        a.Acelerar(10) -> debe devolver 10\n",
    "        a.Acelerar(15) -> debe devolver 25\n",
    "        a.Acelerar(-10) -> debe devolver 15"
   ]
  },
  {
   "cell_type": "code",
   "execution_count": 86,
   "metadata": {},
   "outputs": [],
   "source": [
    "class ClaseVehiculo:\n",
    "    def __init__(self, color, tipo):\n",
    "        self.color = color\n",
    "        self.tipo = tipo\n",
    "        self.velocidad = 0\n",
    "\n",
    "    def Acelerar(self, vel):\n",
    "        self.velocidad += vel\n",
    "\n",
    "    def Frenar(self, vel):\n",
    "        self.velocidad -= vel\n",
    "    "
   ]
  },
  {
   "cell_type": "code",
   "execution_count": 146,
   "metadata": {},
   "outputs": [],
   "source": [
    "#culo\n",
    "def ClaseVehiculo(tipo, color):\n",
    "    class Vehiculo:\n",
    "        def __init__(self, color, tipo):\n",
    "            self.color = color\n",
    "            self.tipo = tipo\n",
    "            self.velocidad = 0\n",
    "\n",
    "        def Acelerar(self, velocidad):\n",
    "            self.velocidad += velocidad\n",
    "            return velocidad\n",
    "            \n",
    "\n",
    "        def Frenar(self, velocidad):\n",
    "            self.velocidad -= vel\n",
    "            return velocidad"
   ]
  },
  {
   "cell_type": "code",
   "execution_count": 147,
   "metadata": {},
   "outputs": [],
   "source": [
    "a = Vehiculo('auto','gris')"
   ]
  },
  {
   "cell_type": "code",
   "execution_count": 148,
   "metadata": {},
   "outputs": [],
   "source": [
    "a.Acelerar(10)"
   ]
  },
  {
   "cell_type": "code",
   "execution_count": null,
   "metadata": {},
   "outputs": [],
   "source": [
    "#con andy\n",
    "def ClaseVehiculo(tipo, color):\n",
    "    self.color = color\n",
    "    self.tipo = tipo  \n",
    "        \n",
    "        \n",
    "    class Vehiculo:\n",
    "        def __init__(self, tipo, color):\n",
    "            self.color = color\n",
    "            self.tipo = tipo\n",
    "            self.velocidad = 0\n",
    "\n",
    "        def Acelerar(self, vel):\n",
    "            self.velocidad += vel\n",
    "            return self.velocidad\n",
    "            \n",
    "        def Frenar(self, vel):\n",
    "            self.velocidad -= vel"
   ]
  },
  {
   "cell_type": "code",
   "execution_count": 5,
   "metadata": {},
   "outputs": [],
   "source": [
    "def ClaseVehiculo(tipo, color):\n",
    "    if tipo == 'auto' or 'camioneta' or 'moto':\n",
    "        return Vehiculo(tipo, color)\n",
    "    else:\n",
    "        print (\"Tipo de vehiculo no valido, debe ser auto camioneta o moto\")\n",
    "\n",
    "    if color == str(color):\n",
    "        return Vehiculo(tipo, color)\n",
    "    else:\n",
    "        print (\"Tipo de vehiculo no valido, debe ser auto camioneta o moto\")\n",
    "        \n",
    "    class Vehiculo:\n",
    "        def __init__(self, tipo, color):\n",
    "            self.color = color\n",
    "            self.tipo = tipo\n",
    "            self.velocidad = 0\n",
    "\n",
    "        def Acelerar(self, vel):\n",
    "            self.velocidad += vel\n",
    "            return self.velocidad\n",
    "            \n",
    "        def Frenar(self, vel):\n",
    "            self.velocidad -= vel\n"
   ]
  },
  {
   "cell_type": "code",
   "execution_count": 19,
   "metadata": {},
   "outputs": [],
   "source": [
    "#este\n",
    "class ClaseVehiculo:\n",
    "    def __init__(self, tipo, color):\n",
    "        self.color = color\n",
    "        self.tipo = tipo\n",
    "        self.velocidad = 0\n",
    "\n",
    "    def ClaseVehiculo(tipo, color):\n",
    "        if tipo == 'auto' or 'camioneta' or 'moto':\n",
    "            return Vehiculo(tipo, color)\n",
    "        else:\n",
    "            print (\"Tipo de vehiculo no valido, debe ser auto camioneta o moto\")\n",
    "\n",
    "        if color == str(color):\n",
    "            return Vehiculo(tipo, color)\n",
    "        else:\n",
    "            print (\"Tipo de vehiculo no valido, debe ser auto camioneta o moto\")\n",
    "        \n",
    "        def Acelerar(self, vel):\n",
    "            self.velocidad += vel\n",
    "            return self.velocidad\n",
    "            \n",
    "        def Frenar(self, vel):\n",
    "            self.velocidad -= vel   "
   ]
  },
  {
   "cell_type": "code",
   "execution_count": 72,
   "metadata": {},
   "outputs": [],
   "source": [
    "#DEFINITIVO\n",
    "def ClaseVehiculo(tipo, color):\n",
    "    def __init__(self, tipo, color, vel):\n",
    "        self.tipo=tipo\n",
    "        self.color=color\n",
    "        self.vel=0\n",
    "\n",
    "def Acelerar(self,vel):\n",
    "    self.vel += vel\n",
    "    return self.vel\n",
    "        \n",
    "def Frenar(self, vel):\n",
    "    self.vel -= vel\n",
    "    return self.vel"
   ]
  },
  {
   "cell_type": "code",
   "execution_count": 73,
   "metadata": {},
   "outputs": [],
   "source": [
    "a = ClaseVehiculo('auto','gris')"
   ]
  },
  {
   "cell_type": "code",
   "execution_count": 74,
   "metadata": {},
   "outputs": [
    {
     "ename": "AttributeError",
     "evalue": "'NoneType' object has no attribute 'Acelerar'",
     "output_type": "error",
     "traceback": [
      "\u001b[1;31m---------------------------------------------------------------------------\u001b[0m",
      "\u001b[1;31mAttributeError\u001b[0m                            Traceback (most recent call last)",
      "\u001b[1;32mc:\\Users\\Andy Kotzer\\Desktop\\Python-Prep\\01 - Introducción a la Programación\\Giselle_Block.ipynb Cell 11'\u001b[0m in \u001b[0;36m<cell line: 1>\u001b[1;34m()\u001b[0m\n\u001b[1;32m----> <a href='vscode-notebook-cell:/c%3A/Users/Andy%20Kotzer/Desktop/Python-Prep/01%20-%20Introducci%C3%B3n%20a%20la%20Programaci%C3%B3n/Giselle_Block.ipynb#ch0000057?line=0'>1</a>\u001b[0m a\u001b[39m.\u001b[39;49mAcelerar(\u001b[39m10\u001b[39m)\n",
      "\u001b[1;31mAttributeError\u001b[0m: 'NoneType' object has no attribute 'Acelerar'"
     ]
    }
   ],
   "source": [
    "a.Acelerar(10)"
   ]
  },
  {
   "cell_type": "code",
   "execution_count": 82,
   "metadata": {},
   "outputs": [],
   "source": [
    "#DEFINITIVO\n",
    "def ClaseVehiculo(tipo, color):\n",
    "    vel=0\n",
    "\n",
    "def Acelerar(self,vel):\n",
    "    self.vel += vel\n",
    "    return self.vel\n",
    "            \n",
    "def Frenar(self, vel):\n",
    "    self.vel -= vel\n",
    "    return self.vel"
   ]
  },
  {
   "cell_type": "code",
   "execution_count": 83,
   "metadata": {},
   "outputs": [],
   "source": [
    "a = ClaseVehiculo('auto','gris')"
   ]
  },
  {
   "cell_type": "code",
   "execution_count": 84,
   "metadata": {},
   "outputs": [
    {
     "ename": "AttributeError",
     "evalue": "'NoneType' object has no attribute 'Acelerar'",
     "output_type": "error",
     "traceback": [
      "\u001b[1;31m---------------------------------------------------------------------------\u001b[0m",
      "\u001b[1;31mAttributeError\u001b[0m                            Traceback (most recent call last)",
      "\u001b[1;32mc:\\Users\\Andy Kotzer\\Desktop\\Python-Prep\\01 - Introducción a la Programación\\Giselle_Block.ipynb Cell 14'\u001b[0m in \u001b[0;36m<cell line: 1>\u001b[1;34m()\u001b[0m\n\u001b[1;32m----> <a href='vscode-notebook-cell:/c%3A/Users/Andy%20Kotzer/Desktop/Python-Prep/01%20-%20Introducci%C3%B3n%20a%20la%20Programaci%C3%B3n/Giselle_Block.ipynb#ch0000060?line=0'>1</a>\u001b[0m a\u001b[39m.\u001b[39;49mAcelerar(\u001b[39m10\u001b[39m)\n",
      "\u001b[1;31mAttributeError\u001b[0m: 'NoneType' object has no attribute 'Acelerar'"
     ]
    }
   ],
   "source": [
    "a.Acelerar(10)"
   ]
  },
  {
   "cell_type": "code",
   "execution_count": null,
   "metadata": {},
   "outputs": [],
   "source": [
    "class vehiculo():\n",
    "        def __init__(self,tipo,color,velocidad):\n",
    "            self.tipo = tipo\n",
    "            self.color = color\n",
    "            self.velocidad = velocidad\n",
    "        def Acelerar(self,incremento):\n",
    "            self.velocidad += incremento\n",
    "            if self.velocidad < 0:\n",
    "                self.velocidad = float(0)\n",
    "            elif self.velocidad >= 100:\n",
    "                self.velocidad = float(100)\n",
    "def ClaseVehiculo(tipo, color):\n",
    "        return vehiculo(tipo, color,0)\n",
    "tippo = str(input(\"Ingrese el nuevo tipo de vehiculo: \", ))\n",
    "collor = str(input(\"Ingrese el nuevo color del vehiculo: \", ))\n",
    "nuevoVehiculo = ClaseVehiculo(tippo, collor)\n",
    "if nuevoVehiculo.tipo == (\"moto\" or \"camioneta\" or \"auto\"):\n",
    "    while True:\n",
    "        try:\n",
    "            incremento = float(input(\"¿Cuanto quieres acelerar?: \"))\n",
    "            nuevoVehiculo.Acelerar(incremento)\n",
    "            print(f\"La nueva velocidad de la {tippo} de color {collor} es {nuevoVehiculo.velocidad} \\nPara salir, presione Ctrl + c\")\n",
    "        except ValueError:\n",
    "            print(\"Valor erroneo, para salir presione Ctrl + c\")\n",
    "else:\n",
    "    print(\"tipo de vehiculo no valido\")\n"
   ]
  },
  {
   "cell_type": "code",
   "execution_count": null,
   "metadata": {},
   "outputs": [],
   "source": [
    "def ListaPrimos(desde, hasta):\n",
    "    '''\n",
    "    Esta función devuelve una lista con los números primos entre los valores \"desde\" y \"hasta\"\n",
    "    pasados como parámetro, siendo ambos inclusivos.\n",
    "    En caso de que alguno de los parámetros no sea de tipo entero y/o no sea mayor a cero, debe retornar nulo.\n",
    "    En caso de que el segundo parámetro sea mayor al primero, pero ambos mayores que cero,\n",
    "    debe retornar una lista vacía.\n",
    "    Recibe un argumento:\n",
    "        desde: Será el número a partir del cual se toma el rango\n",
    "        hasta: Será el número hasta el cual se tome el rango\n",
    "    Ej:\n",
    "        ListaPrimos(7,15) debe retornar [7,11,13]\n",
    "        ListaPrimos(100,99) debe retornar []\n",
    "        ListaPrimos(1,7) debe retonan [1,2,3,5,7]\n",
    "    '''\n",
    "    #Tu código aca:\n",
    "    return 'Funcion incompleta'"
   ]
  },
  {
   "cell_type": "code",
   "execution_count": 9,
   "metadata": {},
   "outputs": [],
   "source": [
    "def ListaPrimos(desde, hasta):\n",
    "    primos=[]\n",
    "    if ((type(desde)==int) and (type(hasta)==int)):\n",
    "        if desde < hasta:\n",
    "            for i in range(desde, (hasta+1)):\n",
    "                valor=True\n",
    "                div=i\n",
    "                for n in range(2, div):\n",
    "                    if div%n == 0:\n",
    "                        valor=False\n",
    "                if valor ==True:\n",
    "                    primos.append(i)\n",
    "            return primos\n",
    "        else:\n",
    "            return primos\n",
    "    else:\n",
    "        return None        "
   ]
  },
  {
   "cell_type": "code",
   "execution_count": 1,
   "metadata": {},
   "outputs": [
    {
     "ename": "NameError",
     "evalue": "name 'ListaPrimos' is not defined",
     "output_type": "error",
     "traceback": [
      "\u001b[1;31m---------------------------------------------------------------------------\u001b[0m",
      "\u001b[1;31mNameError\u001b[0m                                 Traceback (most recent call last)",
      "\u001b[1;32mc:\\Users\\Andy Kotzer\\Desktop\\Python-Prep\\01 - Introducción a la Programación\\Giselle_Block.ipynb Cell 9'\u001b[0m in \u001b[0;36m<cell line: 1>\u001b[1;34m()\u001b[0m\n\u001b[1;32m----> <a href='vscode-notebook-cell:/c%3A/Users/Andy%20Kotzer/Desktop/Python-Prep/01%20-%20Introducci%C3%B3n%20a%20la%20Programaci%C3%B3n/Giselle_Block.ipynb#ch0000029?line=0'>1</a>\u001b[0m ListaPrimos(\u001b[39m1\u001b[39m,\u001b[39m7\u001b[39m)\n",
      "\u001b[1;31mNameError\u001b[0m: name 'ListaPrimos' is not defined"
     ]
    }
   ],
   "source": [
    "ListaPrimos(1,7)"
   ]
  },
  {
   "cell_type": "code",
   "execution_count": null,
   "metadata": {},
   "outputs": [],
   "source": [
    "def ListaDeListas(lista):\n",
    "    '''\n",
    "    Esta función recibe una lista, que puede contener elementos que a su vez sean listas y\n",
    "    devuelve esos elementos por separado en una lista única. \n",
    "    En caso de que el parámetro no sea de tipo lista, debe retornar nulo.\n",
    "    Recibe un argumento:\n",
    "        lista: La lista que puede contener otras listas y se convierte a una \n",
    "        lista de elementos únicos o no iterables.\n",
    "    Ej:\n",
    "        ListaDeListas([1,2,['a','b'],[10]]) debe retornar [1,2,'a','b',10]\n",
    "        ListaDeListas(108) debe retornar el valor nulo.\n",
    "        ListaDeListas([[1,2,[3]],[4]]) debe retornar [1,2,3,4]"
   ]
  },
  {
   "cell_type": "code",
   "execution_count": 13,
   "metadata": {},
   "outputs": [],
   "source": [
    "def ListaDeListas(lista):\n",
    "    if (type(lista)== list):\n",
    "        listafinal=[]\n",
    "        for i in lista:\n",
    "            if (type(i)==list):\n",
    "                listafinal += i\n",
    "            else:\n",
    "                listafinal.append(i)\n",
    "        return listafinal\n",
    "    else:\n",
    "        print('Valor Nulo')\n",
    "        return None\n",
    "        \n",
    "    \n",
    "    "
   ]
  },
  {
   "cell_type": "code",
   "execution_count": 14,
   "metadata": {},
   "outputs": [
    {
     "data": {
      "text/plain": [
       "[1, 2, [3], 4]"
      ]
     },
     "execution_count": 14,
     "metadata": {},
     "output_type": "execute_result"
    }
   ],
   "source": [
    "ListaDeListas([[1,2,[3]],[4]])"
   ]
  },
  {
   "cell_type": "code",
   "execution_count": null,
   "metadata": {},
   "outputs": [],
   "source": [
    "def ListaPrimos(desde, hasta):\n",
    "    '''\n",
    "    Esta función devuelve una lista con los números primos entre los valores \"desde\" y \"hasta\"\n",
    "    pasados como parámetro, siendo ambos inclusivos.\n",
    "    En caso de que alguno de los parámetros no sea de tipo entero y/o no sea mayor a cero, debe retornar nulo.\n",
    "    En caso de que el segundo parámetro sea mayor al primero, pero ambos mayores que cero,\n",
    "    debe retornar una lista vacía.\n",
    "    Recibe un argumento:\n",
    "        desde: Será el número a partir del cual se toma el rango\n",
    "        hasta: Será el número hasta el cual se tome el rango\n",
    "    Ej:\n",
    "        ListaPrimos(7,15) debe retornar [7,11,13]\n",
    "        ListaPrimos(100,99) debe retornar []\n",
    "        ListaPrimos(1,7) debe retonan [1,2,3,5,7]\n",
    "    '''\n",
    "    #Tu código aca:\n",
    "    return 'Funcion incompleta'"
   ]
  },
  {
   "cell_type": "code",
   "execution_count": null,
   "metadata": {},
   "outputs": [],
   "source": []
  },
  {
   "cell_type": "code",
   "execution_count": 155,
   "metadata": {},
   "outputs": [],
   "source": [
    "def ListaPrimos(desde, hasta):\n",
    "    if (type(desde) != int):\n",
    "        return None\n",
    "    if (type(hasta) != int):\n",
    "        return None\n",
    "    resultado = []\n",
    "    contador = desde\n",
    "    for i in range(2, (int(contador / 2) + 1)):\n",
    "        if contador % i == 0:\n",
    "            return False\n",
    "        else:\n",
    "            resultado.append(contador)\n",
    "        contador += 1\n",
    "        # hasta hasta\n",
    "    print(resultado)\n",
    "\n"
   ]
  },
  {
   "cell_type": "code",
   "execution_count": 141,
   "metadata": {},
   "outputs": [
    {
     "data": {
      "text/plain": [
       "1"
      ]
     },
     "execution_count": 141,
     "metadata": {},
     "output_type": "execute_result"
    }
   ],
   "source": [
    "7%2"
   ]
  },
  {
   "cell_type": "code",
   "execution_count": 154,
   "metadata": {},
   "outputs": [
    {
     "data": {
      "text/plain": [
       "True"
      ]
     },
     "execution_count": 154,
     "metadata": {},
     "output_type": "execute_result"
    }
   ],
   "source": [
    "ListaPrimos(7,15)\n"
   ]
  },
  {
   "cell_type": "code",
   "execution_count": 39,
   "metadata": {},
   "outputs": [],
   "source": [
    "def ejemplo (numero, tope):\n",
    "    numero = 6\n",
    "    lista = []\n",
    "    n = 1\n",
    "    tope = 30\n",
    "    while(n <= tope):\n",
    "        n+=1\n",
    "        if (n % numero != 0):\n",
    "            continue\n",
    "        else:\n",
    "            print(numero)"
   ]
  },
  {
   "cell_type": "code",
   "execution_count": 38,
   "metadata": {},
   "outputs": [
    {
     "ename": "SyntaxError",
     "evalue": "invalid syntax (2799311027.py, line 1)",
     "output_type": "error",
     "traceback": [
      "\u001b[1;36m  Input \u001b[1;32mIn [38]\u001b[1;36m\u001b[0m\n\u001b[1;33m    def ejemplo (6,30)\u001b[0m\n\u001b[1;37m                 ^\u001b[0m\n\u001b[1;31mSyntaxError\u001b[0m\u001b[1;31m:\u001b[0m invalid syntax\n"
     ]
    }
   ],
   "source": []
  },
  {
   "cell_type": "markdown",
   "metadata": {},
   "source": [
    "Esta función devuelve el valor booleano True si el número reibido como parámetro es primo, de lo \n",
    "    contrario devuelve False..\n",
    "    En caso de que el parámetro no sea de tipo entero debe retornar nulo.\n",
    "    Recibe un argumento:\n",
    "        valor: Será el número a evaluar\n",
    "    Ej:\n",
    "        EsPrimo(7) debe retornar True\n",
    "        EsPrimo(8) debe retornar False"
   ]
  },
  {
   "cell_type": "code",
   "execution_count": 18,
   "metadata": {},
   "outputs": [
    {
     "name": "stdout",
     "output_type": "stream",
     "text": [
      "True\n",
      "False\n",
      "None\n"
     ]
    }
   ],
   "source": [
    "def EsPrimo(valor):\n",
    "    respuesta = True\n",
    "    if (type(valor) != int):\n",
    "        respuesta = None\n",
    "    for i in range(2, (int(valor / 2) + 1)):\n",
    "        if valor % i == 0:\n",
    "            respuesta = False\n",
    "            break\n",
    "    print(respuesta)\n",
    "\n",
    "EsPrimo(7)\n",
    "EsPrimo(8)\n",
    "EsPrimo(2.5)"
   ]
  },
  {
   "cell_type": "markdown",
   "metadata": {},
   "source": [
    "Esta función devuelve el número primo siguiente al enviado como parámetro. En caso de que el parámetro no sea de tipo entero y/o primo debe retornar nulo.\n",
    "    Recibe un argumento:\n",
    "        actual_primo = 7\n",
    "    Ej:\n",
    "        ProximoPrimo(7) debe retornar 11\n",
    "        ProximoPrimo(8) debe retornar 11"
   ]
  },
  {
   "cell_type": "code",
   "execution_count": 29,
   "metadata": {},
   "outputs": [],
   "source": [
    "def ProximoPrimo(actual_primo):\n",
    "    if (type(actual_primo) != int):\n",
    "        return None\n",
    "    for i in range(2, (int(valor / 2) + 1)):\n",
    "        if (actual_primo % i == 0):\n",
    "            return None\n",
    "        else:\n",
    "            i = ((2, int(actual_primo / 2  + 1)) + 1)"
   ]
  },
  {
   "cell_type": "code",
   "execution_count": 110,
   "metadata": {},
   "outputs": [
    {
     "ename": "SyntaxError",
     "evalue": "invalid syntax (3157729930.py, line 16)",
     "output_type": "error",
     "traceback": [
      "\u001b[1;36m  Input \u001b[1;32mIn [110]\u001b[1;36m\u001b[0m\n\u001b[1;33m    While True:\u001b[0m\n\u001b[1;37m          ^\u001b[0m\n\u001b[1;31mSyntaxError\u001b[0m\u001b[1;31m:\u001b[0m invalid syntax\n"
     ]
    }
   ],
   "source": [
    "def ProximoPrimo(actual_primo):\n",
    "    cont = 2\n",
    "    primo = True\n",
    "    while primo and cont < actual_primo:\n",
    "        if actual_primo % cont == 0:\n",
    "            primo = None\n",
    "        else: \n",
    "            cont += 1\n",
    "    actual_primo +=actual_primo\n",
    "    if primo == actual_primo:\n",
    "        print(str(actual_primo))\n",
    "    return primo\n",
    "\n",
    "valor = input('ingrese valor')\n",
    "actual_primo = valor\n",
    "While True:\n",
    "    actual_primo = actual_primo + 1\n",
    "    if(esPrimo(numero)):\n",
    "        print('el pri sig es + str(actual_primo')\n",
    "        break"
   ]
  },
  {
   "cell_type": "code",
   "execution_count": 107,
   "metadata": {},
   "outputs": [],
   "source": [
    "def ProximoPrimo(actual_primo):\n",
    "    cont = 2\n",
    "    primo = True\n",
    "    while primo and cont < actual_primo:\n",
    "        if actual_primo % cont == 0:\n",
    "            primo = False\n",
    "        else: \n",
    "            cont += 1\n",
    "    return primo\n",
    "    actual_primo +=actual_primo\n",
    "    if primo == actual_primo:\n",
    "        print(str(actual_primo))\n",
    "    return primo\n",
    "    def Sig_Primo(n):\n",
    "        i = n-1\n",
    "    sig_primo = 0\n",
    "    while i != 1:\n",
    "        if ProximoPrimo(i) == True:\n",
    "            sig_primo = i\n",
    "            break\n",
    "        else:\n",
    "                i=i+1\n",
    "    return sig_primo"
   ]
  },
  {
   "cell_type": "code",
   "execution_count": 109,
   "metadata": {},
   "outputs": [
    {
     "data": {
      "text/plain": [
       "True"
      ]
     },
     "execution_count": 109,
     "metadata": {},
     "output_type": "execute_result"
    }
   ],
   "source": [
    "ProximoPrimo(3)"
   ]
  },
  {
   "cell_type": "markdown",
   "metadata": {},
   "source": [
    "    Esta función devuelve el factorial del número pasado como parámetro.\n",
    "    En caso de que no sea de tipo entero y/o sea menor que 1, debe retornar nulo.\n",
    "    Recibe un argumento:\n",
    "        numero: Será el número con el que se calcule el factorial\n",
    "    Ej:\n",
    "        Factorial(4) debe retornar 24\n",
    "        Factorial(-2) debe retornar nulo\n",
    "    '''\n",
    "  "
   ]
  }
 ],
 "metadata": {
  "kernelspec": {
   "display_name": "Python 3.10.5 64-bit",
   "language": "python",
   "name": "python3"
  },
  "language_info": {
   "codemirror_mode": {
    "name": "ipython",
    "version": 3
   },
   "file_extension": ".py",
   "mimetype": "text/x-python",
   "name": "python",
   "nbconvert_exporter": "python",
   "pygments_lexer": "ipython3",
   "version": "3.10.5"
  },
  "vscode": {
   "interpreter": {
    "hash": "302234ee9f58317afb96167d55c30f6dc307f3c02831b8e184062cb797edcf95"
   }
  }
 },
 "nbformat": 4,
 "nbformat_minor": 4
}
